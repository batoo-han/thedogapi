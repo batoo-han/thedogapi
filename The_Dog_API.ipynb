{
  "nbformat": 4,
  "nbformat_minor": 0,
  "metadata": {
    "colab": {
      "provenance": [],
      "authorship_tag": "ABX9TyNbBOZTk/vaJoS24SM+xKvZ",
      "include_colab_link": true
    },
    "kernelspec": {
      "name": "python3",
      "display_name": "Python 3"
    },
    "language_info": {
      "name": "python"
    }
  },
  "cells": [
    {
      "cell_type": "markdown",
      "metadata": {
        "id": "view-in-github",
        "colab_type": "text"
      },
      "source": [
        "<a href=\"https://colab.research.google.com/github/batoo-han/thedogapi/blob/main/The_Dog_API.ipynb\" target=\"_parent\"><img src=\"https://colab.research.google.com/assets/colab-badge.svg\" alt=\"Open In Colab\"/></a>"
      ]
    },
    {
      "cell_type": "code",
      "execution_count": null,
      "metadata": {
        "id": "sbcDaFhL6bJE",
        "collapsed": true
      },
      "outputs": [],
      "source": [
        "import requests\n",
        "\n",
        "def get_dog_images():\n",
        "    print(\"Что вы хотите получить?\")\n",
        "    print(\"1. Одно случайное изображение собаки\")\n",
        "    print(\"2. 10 случайных изображений собак\")\n",
        "\n",
        "    choice = input(\"Введите номер варианта (1 или 2): \").strip()\n",
        "\n",
        "    api_key = \"thedogapi_key\"  # Замените на ваш ключ с https://thedogapi.com/\n",
        "    headers = {'x-api-key': api_key}\n",
        "\n",
        "    try:\n",
        "        if choice == '1':\n",
        "            url = \"https://api.thedogapi.com/v1/images/search\"\n",
        "        elif choice == '2':\n",
        "            url = \"https://api.thedogapi.com/v1/images/search?limit=10\"\n",
        "        else:\n",
        "            print(\"❌ Неверный выбор. Пожалуйста, введите 1 или 2.\")\n",
        "            return\n",
        "\n",
        "        response = requests.get(url, headers=headers)\n",
        "        response.raise_for_status()  # Проверка на ошибки HTTP\n",
        "\n",
        "        data = response.json()\n",
        "\n",
        "        if not data:\n",
        "            print(\"🔍 Изображений не найдено.\")\n",
        "            return\n",
        "\n",
        "        print(\"\\n🐶 Результаты:\")\n",
        "        for i, dog in enumerate(data, 1):\n",
        "            breeds = dog.get('breeds', [])\n",
        "            breed_name = breeds[0]['name'] if breeds else 'Порода не указана'\n",
        "            print(f\"{i}. Порода: {breed_name}\")\n",
        "            print(f\"   🔗 Ссылка на изображение: {dog['url']}\\n\")\n",
        "\n",
        "    except requests.exceptions.RequestException as e:\n",
        "        print(f\"❌ Ошибка подключения к API: {e}\")\n",
        "    except Exception as e:\n",
        "        print(f\"❌ Произошла ошибка: {e}\")\n",
        "\n",
        "if __name__ == \"__main__\":\n",
        "    get_dog_images()"
      ]
    }
  ]
}